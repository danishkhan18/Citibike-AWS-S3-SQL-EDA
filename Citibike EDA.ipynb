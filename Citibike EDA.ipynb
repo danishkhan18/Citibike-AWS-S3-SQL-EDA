{
 "cells": [
  {
   "cell_type": "code",
   "execution_count": null,
   "metadata": {},
   "outputs": [],
   "source": [
    "#from IPython.core.interactiveshell import InteractiveShell\n",
    "#InteractiveShell.ast_node_interactivity = \"all\""
   ]
  },
  {
   "cell_type": "markdown",
   "metadata": {},
   "source": [
    "# CitiBike Trip Analysis "
   ]
  },
  {
   "cell_type": "markdown",
   "metadata": {},
   "source": [
    "## Loading the required packages for the project"
   ]
  },
  {
   "cell_type": "code",
   "execution_count": 9,
   "metadata": {},
   "outputs": [
    {
     "data": {
      "text/html": [
       "<script>\n",
       "code_show=true; \n",
       "function code_toggle() {\n",
       " if (code_show){\n",
       " $('div.input').hide();\n",
       " } else {\n",
       " $('div.input').show();\n",
       " }\n",
       " code_show = !code_show\n",
       "} \n",
       "$( document ).ready(code_toggle);\n",
       "</script>\n",
       "<form action=\"javascript:code_toggle()\"><input type=\"submit\" value=\"Click here to toggle on/off the code in all paragraphs.\"></form>"
      ],
      "text/plain": [
       "<IPython.core.display.HTML object>"
      ]
     },
     "execution_count": 9,
     "metadata": {},
     "output_type": "execute_result"
    }
   ],
   "source": [
    "from IPython.display import HTML\n",
    "\n",
    "HTML('''<script>\n",
    "code_show=true; \n",
    "function code_toggle() {\n",
    " if (code_show){\n",
    " $('div.input').hide();\n",
    " } else {\n",
    " $('div.input').show();\n",
    " }\n",
    " code_show = !code_show\n",
    "} \n",
    "$( document ).ready(code_toggle);\n",
    "</script>\n",
    "<form action=\"javascript:code_toggle()\"><input type=\"submit\" value=\"Click here to toggle on/off the code in all paragraphs.\"></form>''')\n"
   ]
  },
  {
   "cell_type": "code",
   "execution_count": 1,
   "metadata": {},
   "outputs": [],
   "source": [
    "#To match the specific strings we use re package using regular expressions\n",
    "import re\n",
    "#To modify os related directories\n",
    "import os\n",
    "#To Retreive information from url\n",
    "from urllib.request import urlretrieve\n",
    "#To unzip a zip file \n",
    "import zipfile\n",
    "#To connect to my sql\n",
    "import mysql.connector as sql\n",
    "#To connect to mysql from python\n",
    "import mysql\n",
    "#To store data from the mysql server as a pandas dataframe and performing some manipulations\n",
    "import pandas as pd\n",
    "#To perform date operations\n",
    "import datetime\n",
    "import csv\n",
    "\n",
    "import seaborn as sns\n",
    "#Importing matplotlib to create plots\n",
    "import matplotlib.pyplot as plt\n",
    "%matplotlib inline\n",
    "\n",
    "import warnings\n",
    "warnings.filterwarnings('ignore')"
   ]
  },
  {
   "cell_type": "code",
   "execution_count": 78,
   "metadata": {},
   "outputs": [],
   "source": [
    "#Function to create a monthdelta method which returns the latest 20 months\n",
    "def monthdelta(date, delta):\n",
    "    m, y = (date.month+delta) % 12, date.year + ((date.month)+delta-1) // 12\n",
    "    if not m: m = 12\n",
    "    d = min(date.day, [31,29 if y%4==0 and not y%400==0 else 28,31,30,31,30,31,31,30,31,30,31][m-1])\n",
    "    return date.replace(day=d,month=m, year=y)\n",
    "\n",
    "link = []\n",
    "link = \"...............................\""
   ]
  },
  {
   "cell_type": "markdown",
   "metadata": {},
   "source": [
    "## Retrieving the datafiles from internet"
   ]
  },
  {
   "cell_type": "code",
   "execution_count": 77,
   "metadata": {},
   "outputs": [
    {
     "name": "stdout",
     "output_type": "stream",
     "text": [
      "/Users/danishkhan/Documents/citibike.csv\n"
     ]
    }
   ],
   "source": [
    "dir_name = '.....................................'\n",
    "os.chdir(dir_name) # change directory from working dir to dir with files\n",
    "\n",
    "\n",
    "# Split on the rightmost / and take everything on the right side of that as the name of the file\n",
    "name = 'citibike.csv'\n",
    "\n",
    "# Combine the name and the downloads directory to get the local filename\n",
    "filename = os.path.join(dir_name, name)\n",
    "\n",
    "# Download the file if it does not exist\n",
    "if not os.path.isfile(filename):\n",
    "    urlretrieve(link,filename)\n",
    "print(filename)\n",
    "    "
   ]
  },
  {
   "cell_type": "code",
   "execution_count": 4,
   "metadata": {},
   "outputs": [
    {
     "data": {
      "text/html": [
       "<div>\n",
       "<style scoped>\n",
       "    .dataframe tbody tr th:only-of-type {\n",
       "        vertical-align: middle;\n",
       "    }\n",
       "\n",
       "    .dataframe tbody tr th {\n",
       "        vertical-align: top;\n",
       "    }\n",
       "\n",
       "    .dataframe thead th {\n",
       "        text-align: right;\n",
       "    }\n",
       "</style>\n",
       "<table border=\"1\" class=\"dataframe\">\n",
       "  <thead>\n",
       "    <tr style=\"text-align: right;\">\n",
       "      <th></th>\n",
       "      <th>tripduration</th>\n",
       "      <th>starttime</th>\n",
       "      <th>stoptime</th>\n",
       "      <th>start station id</th>\n",
       "      <th>start station name</th>\n",
       "      <th>start station latitude</th>\n",
       "      <th>start station longitude</th>\n",
       "      <th>end station id</th>\n",
       "      <th>end station name</th>\n",
       "      <th>end station latitude</th>\n",
       "      <th>end station longitude</th>\n",
       "      <th>bikeid</th>\n",
       "      <th>usertype</th>\n",
       "      <th>birth year</th>\n",
       "      <th>gender</th>\n",
       "    </tr>\n",
       "  </thead>\n",
       "  <tbody>\n",
       "    <tr>\n",
       "      <td>0</td>\n",
       "      <td>1314</td>\n",
       "      <td>2017-08-01 00:03:05</td>\n",
       "      <td>2017-08-01 00:24:59</td>\n",
       "      <td>3187</td>\n",
       "      <td>Warren St</td>\n",
       "      <td>40.721124</td>\n",
       "      <td>-74.038051</td>\n",
       "      <td>3210</td>\n",
       "      <td>Pershing Field</td>\n",
       "      <td>40.742677</td>\n",
       "      <td>-74.051789</td>\n",
       "      <td>26293</td>\n",
       "      <td>Subscriber</td>\n",
       "      <td>1968.0</td>\n",
       "      <td>1</td>\n",
       "    </tr>\n",
       "    <tr>\n",
       "      <td>1</td>\n",
       "      <td>221</td>\n",
       "      <td>2017-08-01 00:06:25</td>\n",
       "      <td>2017-08-01 00:10:06</td>\n",
       "      <td>3213</td>\n",
       "      <td>Van Vorst Park</td>\n",
       "      <td>40.718489</td>\n",
       "      <td>-74.047727</td>\n",
       "      <td>3209</td>\n",
       "      <td>Brunswick St</td>\n",
       "      <td>40.724176</td>\n",
       "      <td>-74.050656</td>\n",
       "      <td>26314</td>\n",
       "      <td>Subscriber</td>\n",
       "      <td>1968.0</td>\n",
       "      <td>2</td>\n",
       "    </tr>\n",
       "    <tr>\n",
       "      <td>2</td>\n",
       "      <td>185</td>\n",
       "      <td>2017-08-01 00:42:28</td>\n",
       "      <td>2017-08-01 00:45:33</td>\n",
       "      <td>3211</td>\n",
       "      <td>Newark Ave</td>\n",
       "      <td>40.721525</td>\n",
       "      <td>-74.046305</td>\n",
       "      <td>3269</td>\n",
       "      <td>Brunswick &amp; 6th</td>\n",
       "      <td>40.726012</td>\n",
       "      <td>-74.050389</td>\n",
       "      <td>26196</td>\n",
       "      <td>Subscriber</td>\n",
       "      <td>1972.0</td>\n",
       "      <td>1</td>\n",
       "    </tr>\n",
       "    <tr>\n",
       "      <td>3</td>\n",
       "      <td>72</td>\n",
       "      <td>2017-08-01 00:45:06</td>\n",
       "      <td>2017-08-01 00:46:18</td>\n",
       "      <td>3269</td>\n",
       "      <td>Brunswick &amp; 6th</td>\n",
       "      <td>40.726012</td>\n",
       "      <td>-74.050389</td>\n",
       "      <td>3209</td>\n",
       "      <td>Brunswick St</td>\n",
       "      <td>40.724176</td>\n",
       "      <td>-74.050656</td>\n",
       "      <td>29521</td>\n",
       "      <td>Subscriber</td>\n",
       "      <td>1996.0</td>\n",
       "      <td>1</td>\n",
       "    </tr>\n",
       "    <tr>\n",
       "      <td>4</td>\n",
       "      <td>499</td>\n",
       "      <td>2017-08-01 01:12:10</td>\n",
       "      <td>2017-08-01 01:20:30</td>\n",
       "      <td>3185</td>\n",
       "      <td>City Hall</td>\n",
       "      <td>40.717733</td>\n",
       "      <td>-74.043845</td>\n",
       "      <td>3268</td>\n",
       "      <td>Lafayette Park</td>\n",
       "      <td>40.713464</td>\n",
       "      <td>-74.062859</td>\n",
       "      <td>29634</td>\n",
       "      <td>Subscriber</td>\n",
       "      <td>1984.0</td>\n",
       "      <td>1</td>\n",
       "    </tr>\n",
       "  </tbody>\n",
       "</table>\n",
       "</div>"
      ],
      "text/plain": [
       "   tripduration            starttime             stoptime  start station id  \\\n",
       "0          1314  2017-08-01 00:03:05  2017-08-01 00:24:59              3187   \n",
       "1           221  2017-08-01 00:06:25  2017-08-01 00:10:06              3213   \n",
       "2           185  2017-08-01 00:42:28  2017-08-01 00:45:33              3211   \n",
       "3            72  2017-08-01 00:45:06  2017-08-01 00:46:18              3269   \n",
       "4           499  2017-08-01 01:12:10  2017-08-01 01:20:30              3185   \n",
       "\n",
       "  start station name  start station latitude  start station longitude  \\\n",
       "0          Warren St               40.721124               -74.038051   \n",
       "1     Van Vorst Park               40.718489               -74.047727   \n",
       "2         Newark Ave               40.721525               -74.046305   \n",
       "3    Brunswick & 6th               40.726012               -74.050389   \n",
       "4          City Hall               40.717733               -74.043845   \n",
       "\n",
       "   end station id end station name  end station latitude  \\\n",
       "0            3210   Pershing Field             40.742677   \n",
       "1            3209     Brunswick St             40.724176   \n",
       "2            3269  Brunswick & 6th             40.726012   \n",
       "3            3209     Brunswick St             40.724176   \n",
       "4            3268   Lafayette Park             40.713464   \n",
       "\n",
       "   end station longitude  bikeid    usertype  birth year  gender  \n",
       "0             -74.051789   26293  Subscriber      1968.0       1  \n",
       "1             -74.050656   26314  Subscriber      1968.0       2  \n",
       "2             -74.050389   26196  Subscriber      1972.0       1  \n",
       "3             -74.050656   29521  Subscriber      1996.0       1  \n",
       "4             -74.062859   29634  Subscriber      1984.0       1  "
      ]
     },
     "execution_count": 4,
     "metadata": {},
     "output_type": "execute_result"
    }
   ],
   "source": [
    "df = pd.read_csv(filename)\n",
    "df.head()"
   ]
  },
  {
   "cell_type": "markdown",
   "metadata": {},
   "source": [
    "## Schema for the tables in MySQL"
   ]
  },
  {
   "cell_type": "markdown",
   "metadata": {},
   "source": [
    "DROP DATABASE IF EXISTS Python_Project; CREATE DATABASE IF NOT EXISTS Python_Project; USE Python_Project; CREATE TABLE IF NOT EXISTS CITIBIKE_TRIPDATA( tripduration MEDIUMINT, starttime datetime, stoptime datetime, start_station_id MEDIUMINT, start_station_name VARCHAR(30), start_station_latitude FLOAT, start_station_longitude FLOAT, end_station_id MEDIUMINT, end_station_name VARCHAR(30), end_station_latitude FLOAT, end_station_longitude FLOAT, bikeid MEDIUMINT, usertype VARCHAR(20), birth_year VARCHAR(6), gender TINYINT );"
   ]
  },
  {
   "cell_type": "markdown",
   "metadata": {},
   "source": [
    "LOAD LOCAL DATA "
   ]
  },
  {
   "cell_type": "markdown",
   "metadata": {},
   "source": [
    "## Connecting to the SQL Server"
   ]
  },
  {
   "cell_type": "code",
   "execution_count": 5,
   "metadata": {},
   "outputs": [],
   "source": [
    "# #Connecting to mysql server\n",
    "# db_connection = sql.connect(host='localhost', database='python_project', user='root', password='password')\n",
    "\n",
    "# df = pd.read_sql('SELECT * FROM citibike WHERE end_station_name NOT LIKE \\\"JSQ Don\\'t Use\" AND end_station_name NOT LIKE \\\"WS Don\\'t Use\"', con=db_connection)\n",
    "\n",
    "\n",
    "subset = df[['start station latitude', 'start station longitude']]\n",
    "tuples = [tuple(x) for x in subset.values]"
   ]
  },
  {
   "cell_type": "code",
   "execution_count": 6,
   "metadata": {},
   "outputs": [],
   "source": [
    "df1 = df.copy()\n",
    "df1['starttime'] = pd.to_datetime(df1['starttime'])\n",
    "df1['stoptime'] = pd.to_datetime(df1['stoptime'])\n",
    "\n",
    "# Pull out the month, day of week and hour of day and make a new feature for each\n",
    "df1['month_start'] = df1['starttime'].dt.month\n",
    "df1['dow_start'] = df1['starttime'].dt.dayofweek\n",
    "df1['hour_start'] = df1['starttime'].dt.hour\n",
    "\n",
    "df1['month_stop'] = df1['stoptime'].dt.month\n",
    "df1['dow_stop'] = df1['stoptime'].dt.dayofweek\n",
    "df1['hour_stop'] = df1['stoptime'].dt.hour"
   ]
  },
  {
   "cell_type": "code",
   "execution_count": 7,
   "metadata": {},
   "outputs": [],
   "source": [
    "month_usage_start = pd.value_counts(df1['month_start']).sort_index()\n",
    "dow_usage_start = pd.value_counts(df1['dow_start']).sort_index()\n",
    "hour_usage_start = pd.value_counts(df1['hour_start']).sort_index()\n",
    "month_usage_stop = pd.value_counts(df1['month_stop']).sort_index()\n",
    "dow_usage_stop = pd.value_counts(df1['dow_stop']).sort_index()\n",
    "hour_usage_stop = pd.value_counts(df1['hour_stop']).sort_index()"
   ]
  },
  {
   "cell_type": "code",
   "execution_count": 8,
   "metadata": {},
   "outputs": [],
   "source": [
    "#db_connection.close()"
   ]
  },
  {
   "cell_type": "markdown",
   "metadata": {},
   "source": [
    "## Around 70 % of the user base are Male"
   ]
  },
  {
   "cell_type": "code",
   "execution_count": 9,
   "metadata": {},
   "outputs": [
    {
     "data": {
      "text/plain": [
       "array([<matplotlib.axes._subplots.AxesSubplot object at 0x1a22c9d850>],\n",
       "      dtype=object)"
      ]
     },
     "execution_count": 9,
     "metadata": {},
     "output_type": "execute_result"
    },
    {
     "data": {
      "image/png": "[encoded data removed]",
      "text/plain": [
       "<Figure size 720x720 with 1 Axes>"
      ]
     },
     "metadata": {},
     "output_type": "display_data"
    }
   ],
   "source": [
    "d_male=df1.loc[df1['gender'] == 1]\n",
    "d_female=df1.loc[df1['gender'] == 2]\n",
    "df1234 = pd.DataFrame([d_male.shape[0], d_female.shape[0]], index=['MALE', 'FEMALE'], columns=['Frequency'])\n",
    "df1234.plot(kind='pie', subplots=True, figsize=(10, 10))"
   ]
  },
  {
   "cell_type": "markdown",
   "metadata": {},
   "source": [
    "## Most of the users lie in the age buckets of 25 to 35 years"
   ]
  },
  {
   "cell_type": "code",
   "execution_count": 10,
   "metadata": {},
   "outputs": [
    {
     "data": {
      "image/png": "[encoded data removed]",
      "text/plain": [
       "<Figure size 432x288 with 1 Axes>"
      ]
     },
     "metadata": {
      "needs_background": "light"
     },
     "output_type": "display_data"
    }
   ],
   "source": [
    "\n",
    "birthyear = df1['birth year']\n",
    "#birthyear = birthyear.dropna()\n",
    "\n",
    "birthyear = pd.to_numeric(birthyear, errors='coerce')\n",
    "\n",
    "age_bucket =  datetime.datetime.now().year - birthyear\n",
    "p1 = sns.kdeplot(data = age_bucket, shade=True, color=\"c\")\n",
    "\n",
    "#plt.figure(figsize=(45,20))\n"
   ]
  },
  {
   "cell_type": "markdown",
   "metadata": {},
   "source": [
    "## Only 5 % of the users use the bike for more than 30 mins "
   ]
  },
  {
   "cell_type": "code",
   "execution_count": 11,
   "metadata": {},
   "outputs": [
    {
     "data": {
      "text/plain": [
       "array([<matplotlib.axes._subplots.AxesSubplot object at 0x1a24ccdb90>],\n",
       "      dtype=object)"
      ]
     },
     "execution_count": 11,
     "metadata": {},
     "output_type": "execute_result"
    },
    {
     "data": {
      "image/png": "[encoded data removed]",
      "text/plain": [
       "<Figure size 576x576 with 1 Axes>"
      ]
     },
     "metadata": {},
     "output_type": "display_data"
    }
   ],
   "source": [
    "\n",
    "df1['trip_minutes']=df1['tripduration']/60\n",
    "df_greater=df1[df1.trip_minutes > 30]\n",
    "df_lesser=df1[df1.trip_minutes < 30]\n",
    "df123 = pd.DataFrame([df_greater.shape[0], df_lesser.shape[0]], index=['More Than 30', 'Less than 30'])\n",
    "df123.plot(kind='pie', subplots=True, figsize=(8, 8))"
   ]
  },
  {
   "cell_type": "markdown",
   "metadata": {},
   "source": [
    "## More number of pickups are on the weekdays than on weekends "
   ]
  },
  {
   "cell_type": "code",
   "execution_count": 12,
   "metadata": {},
   "outputs": [
    {
     "name": "stdout",
     "output_type": "stream",
     "text": [
      "There were a total of 35472 Bike pickups made\n"
     ]
    },
    {
     "data": {
      "image/png": "[encoded data removed]",
      "text/plain": [
       "<Figure size 1368x1080 with 2 Axes>"
      ]
     },
     "metadata": {
      "needs_background": "light"
     },
     "output_type": "display_data"
    }
   ],
   "source": [
    "x_tick_labels_month = ['Jan', 'Feb', 'Mar', 'Apr', 'May', 'Jun']\n",
    "x_tick_labels_day = ['Mon', 'Tues', 'Wed', 'Thu', 'Fri', 'Sat', 'Sun']\n",
    "\n",
    "# define subplot\n",
    "fig, ax = plt.subplots(nrows=2, ncols=2, figsize=(19, 15))\n",
    "\n",
    "figure = plt.subplot(2, 1, 1)\n",
    "dow_usage_start.plot.bar(alpha = 0.5, color = 'b')\n",
    "plt.title('Pickups over Day of Week', fontsize = 20)\n",
    "plt.xlabel('Day of Week', fontsize = 18)\n",
    "plt.ylabel('Count', fontsize = 18)\n",
    "plt.xticks(dow_usage_start.index, x_tick_labels_day, rotation='90', fontsize=18)\n",
    "plt.xticks(rotation=0)\n",
    "plt.yticks(fontsize = 18)\n",
    "\n",
    "figure = plt.subplot(2, 1, 2)\n",
    "dow_usage_stop.plot.bar(alpha = 0.5, color = 'r')\n",
    "plt.title('Dropoffs over Day of Week', fontsize = 20)\n",
    "plt.xlabel('Day of Week', fontsize = 18)\n",
    "plt.ylabel('Count', fontsize = 18)\n",
    "plt.xticks(dow_usage_stop.index, x_tick_labels_day, rotation='90', fontsize=18)\n",
    "plt.xticks(rotation=0)\n",
    "plt.yticks(fontsize = 18)\n",
    "\n",
    "fig.tight_layout()\n",
    "print (\"There were a total of %d Bike pickups made\" % (len(df1)))"
   ]
  },
  {
   "cell_type": "markdown",
   "metadata": {},
   "source": [
    "## Most number of pickups are at 8 A.M. and 6 P.M "
   ]
  },
  {
   "cell_type": "code",
   "execution_count": 13,
   "metadata": {},
   "outputs": [
    {
     "name": "stdout",
     "output_type": "stream",
     "text": [
      "There were a total of 35472 Bike drop-offs made\n"
     ]
    },
    {
     "data": {
      "image/png": "[encoded data removed]",
      "text/plain": [
       "<Figure size 1368x1080 with 2 Axes>"
      ]
     },
     "metadata": {
      "needs_background": "light"
     },
     "output_type": "display_data"
    }
   ],
   "source": [
    "x_tick_labels_month = ['Jan', 'Feb', 'Mar', 'Apr', 'May', 'Jun']\n",
    "x_tick_labels_day = ['Mon', 'Tues', 'Wed', 'Thu', 'Fri', 'Sat', 'Sun']\n",
    "\n",
    "# define subplot\n",
    "fig, ax = plt.subplots(nrows=2, ncols=2, figsize=(19, 15))\n",
    "figure = plt.subplot(2,1, 1)\n",
    "hour_usage_start.plot.bar(alpha = 0.5, color = 'b')\n",
    "plt.title('Pickups over Hour of Day', fontsize = 20)\n",
    "plt.xlabel('Hour of Day', fontsize = 18)\n",
    "plt.ylabel('Count', fontsize = 18)\n",
    "plt.xticks(rotation=0)\n",
    "plt.yticks(fontsize = 18)\n",
    "\n",
    "figure = plt.subplot(2, 1, 2)\n",
    "hour_usage_stop.plot.bar(alpha = 0.5, color = 'g')\n",
    "plt.title('Drop-offs over Hour of Day', fontsize = 20)\n",
    "plt.xlabel('Hour of Day', fontsize = 18)\n",
    "plt.ylabel('Count', fontsize = 18)\n",
    "plt.xticks(rotation=0)\n",
    "plt.yticks(fontsize = 18)\n",
    "\n",
    "fig.tight_layout()\n",
    "print (\"There were a total of %d Bike drop-offs made\" % (len(df1)))"
   ]
  },
  {
   "cell_type": "code",
   "execution_count": 14,
   "metadata": {},
   "outputs": [
    {
     "name": "stdout",
     "output_type": "stream",
     "text": [
      "--------------------------------------------------------------------------------------------\n",
      "There were 2470 Customers in the last 20 months who used citibikes \n",
      "There were 33002 Subscribers in the last 20 months who utilized the citibikes on a daily basis\n",
      "--------------------------------------------------------------------------------------------\n"
     ]
    }
   ],
   "source": [
    "d_subs=df1.loc[df1['usertype'] == 'Subscriber']\n",
    "d_customer=df1.loc[df1['usertype'] == 'Customer']\n",
    "print('--------------------------------------------------------------------------------------------')\n",
    "print (\"There were %d Customers in the last 20 months who used citibikes \" % (d_customer.shape[0]))\n",
    "print (\"There were %d Subscribers in the last 20 months who utilized the citibikes on a daily basis\" % (d_subs.shape[0]))\n",
    "print('--------------------------------------------------------------------------------------------')"
   ]
  },
  {
   "cell_type": "markdown",
   "metadata": {},
   "source": [
    "## Only 7% of the customer base are one time users "
   ]
  },
  {
   "cell_type": "code",
   "execution_count": 15,
   "metadata": {},
   "outputs": [
    {
     "data": {
      "text/plain": [
       "array([<matplotlib.axes._subplots.AxesSubplot object at 0x1a26eb8a90>],\n",
       "      dtype=object)"
      ]
     },
     "execution_count": 15,
     "metadata": {},
     "output_type": "execute_result"
    },
    {
     "data": {
      "image/png": "[encoded data removed]",
      "text/plain": [
       "<Figure size 720x720 with 1 Axes>"
      ]
     },
     "metadata": {},
     "output_type": "display_data"
    }
   ],
   "source": [
    "df12345 = pd.DataFrame([d_customer.shape[0], d_subs.shape[0]], index=['Customers', 'Subscribers'], columns=['Frequency'])\n",
    "df12345.plot(kind='pie', subplots=True, figsize=(10, 10))"
   ]
  },
  {
   "cell_type": "markdown",
   "metadata": {},
   "source": [
    "## Grove St PATH is the most used bike pickup station for subscribers"
   ]
  },
  {
   "cell_type": "code",
   "execution_count": 23,
   "metadata": {},
   "outputs": [],
   "source": [
    "df[\"starttime\"] = pd.to_datetime(df[\"starttime\"])\n",
    "\n",
    "df['starttime_date'] = df['starttime'].dt.date"
   ]
  },
  {
   "cell_type": "code",
   "execution_count": 37,
   "metadata": {},
   "outputs": [
    {
     "data": {
      "image/png": "[encoded data removed]",
      "text/plain": [
       "<Figure size 1080x720 with 1 Axes>"
      ]
     },
     "metadata": {
      "needs_background": "light"
     },
     "output_type": "display_data"
    }
   ],
   "source": [
    "import seaborn as sns\n",
    "pop_start_stations = df1['start station name'].value_counts().to_dict()\n",
    "names_start=list(pop_start_stations.keys())\n",
    "names_start=names_start[0:5]\n",
    "start_stations=pd.DataFrame.from_dict(pop_start_stations,orient='index',columns=['Frequency'])\n",
    "vals=list(start_stations['Frequency'])\n",
    "vals=vals[0:5]\n",
    "\n",
    "#PLOTTING\n",
    "plt.figure(figsize= (15,10))\n",
    "g = sns.barplot(x =names_start , y = vals).set_title('TOP 5 Most popular bike pickup stations for Subscribers')\n",
    "\n",
    "\n",
    "plt.show()"
   ]
  },
  {
   "cell_type": "markdown",
   "metadata": {},
   "source": [
    "## Customer's most frequent pickup and drop stations"
   ]
  },
  {
   "cell_type": "code",
   "execution_count": 40,
   "metadata": {},
   "outputs": [
    {
     "data": {
      "text/html": [
       "<div>\n",
       "<style scoped>\n",
       "    .dataframe tbody tr th:only-of-type {\n",
       "        vertical-align: middle;\n",
       "    }\n",
       "\n",
       "    .dataframe tbody tr th {\n",
       "        vertical-align: top;\n",
       "    }\n",
       "\n",
       "    .dataframe thead th {\n",
       "        text-align: right;\n",
       "    }\n",
       "</style>\n",
       "<table border=\"1\" class=\"dataframe\">\n",
       "  <thead>\n",
       "    <tr style=\"text-align: right;\">\n",
       "      <th></th>\n",
       "      <th>start station name</th>\n",
       "      <th>start station latitude</th>\n",
       "      <th>start station longitude</th>\n",
       "      <th>end station name</th>\n",
       "      <th>end station latitude</th>\n",
       "      <th>end station longitude</th>\n",
       "      <th>frequency</th>\n",
       "    </tr>\n",
       "  </thead>\n",
       "  <tbody>\n",
       "    <tr>\n",
       "      <td>312</td>\n",
       "      <td>Liberty Light Rail</td>\n",
       "      <td>40.711242</td>\n",
       "      <td>-74.055701</td>\n",
       "      <td>Liberty Light Rail</td>\n",
       "      <td>40.711242</td>\n",
       "      <td>-74.055701</td>\n",
       "      <td>179</td>\n",
       "    </tr>\n",
       "    <tr>\n",
       "      <td>140</td>\n",
       "      <td>Exchange Place</td>\n",
       "      <td>40.716247</td>\n",
       "      <td>-74.033459</td>\n",
       "      <td>Exchange Place</td>\n",
       "      <td>40.716247</td>\n",
       "      <td>-74.033459</td>\n",
       "      <td>52</td>\n",
       "    </tr>\n",
       "    <tr>\n",
       "      <td>489</td>\n",
       "      <td>Newport Pkwy</td>\n",
       "      <td>40.728745</td>\n",
       "      <td>-74.032108</td>\n",
       "      <td>Newport Pkwy</td>\n",
       "      <td>40.728745</td>\n",
       "      <td>-74.032108</td>\n",
       "      <td>51</td>\n",
       "    </tr>\n",
       "    <tr>\n",
       "      <td>464</td>\n",
       "      <td>Newport PATH</td>\n",
       "      <td>40.727224</td>\n",
       "      <td>-74.033759</td>\n",
       "      <td>Newport PATH</td>\n",
       "      <td>40.727224</td>\n",
       "      <td>-74.033759</td>\n",
       "      <td>38</td>\n",
       "    </tr>\n",
       "    <tr>\n",
       "      <td>156</td>\n",
       "      <td>Exchange Place</td>\n",
       "      <td>40.716247</td>\n",
       "      <td>-74.033459</td>\n",
       "      <td>Newport Pkwy</td>\n",
       "      <td>40.728745</td>\n",
       "      <td>-74.032108</td>\n",
       "      <td>31</td>\n",
       "    </tr>\n",
       "    <tr>\n",
       "      <td>416</td>\n",
       "      <td>Morris Canal</td>\n",
       "      <td>40.712419</td>\n",
       "      <td>-74.038526</td>\n",
       "      <td>Morris Canal</td>\n",
       "      <td>40.712419</td>\n",
       "      <td>-74.038526</td>\n",
       "      <td>27</td>\n",
       "    </tr>\n",
       "    <tr>\n",
       "      <td>155</td>\n",
       "      <td>Exchange Place</td>\n",
       "      <td>40.716247</td>\n",
       "      <td>-74.033459</td>\n",
       "      <td>Newport PATH</td>\n",
       "      <td>40.727224</td>\n",
       "      <td>-74.033759</td>\n",
       "      <td>24</td>\n",
       "    </tr>\n",
       "    <tr>\n",
       "      <td>476</td>\n",
       "      <td>Newport Pkwy</td>\n",
       "      <td>40.728745</td>\n",
       "      <td>-74.032108</td>\n",
       "      <td>Exchange Place</td>\n",
       "      <td>40.716247</td>\n",
       "      <td>-74.033459</td>\n",
       "      <td>23</td>\n",
       "    </tr>\n",
       "    <tr>\n",
       "      <td>452</td>\n",
       "      <td>Newport PATH</td>\n",
       "      <td>40.727224</td>\n",
       "      <td>-74.033759</td>\n",
       "      <td>Exchange Place</td>\n",
       "      <td>40.716247</td>\n",
       "      <td>-74.033459</td>\n",
       "      <td>23</td>\n",
       "    </tr>\n",
       "    <tr>\n",
       "      <td>307</td>\n",
       "      <td>Liberty Light Rail</td>\n",
       "      <td>40.711242</td>\n",
       "      <td>-74.055701</td>\n",
       "      <td>Exchange Place</td>\n",
       "      <td>40.716247</td>\n",
       "      <td>-74.033459</td>\n",
       "      <td>22</td>\n",
       "    </tr>\n",
       "  </tbody>\n",
       "</table>\n",
       "</div>"
      ],
      "text/plain": [
       "     start station name  start station latitude  start station longitude  \\\n",
       "312  Liberty Light Rail               40.711242               -74.055701   \n",
       "140      Exchange Place               40.716247               -74.033459   \n",
       "489        Newport Pkwy               40.728745               -74.032108   \n",
       "464        Newport PATH               40.727224               -74.033759   \n",
       "156      Exchange Place               40.716247               -74.033459   \n",
       "416        Morris Canal               40.712419               -74.038526   \n",
       "155      Exchange Place               40.716247               -74.033459   \n",
       "476        Newport Pkwy               40.728745               -74.032108   \n",
       "452        Newport PATH               40.727224               -74.033759   \n",
       "307  Liberty Light Rail               40.711242               -74.055701   \n",
       "\n",
       "       end station name  end station latitude  end station longitude  \\\n",
       "312  Liberty Light Rail             40.711242             -74.055701   \n",
       "140      Exchange Place             40.716247             -74.033459   \n",
       "489        Newport Pkwy             40.728745             -74.032108   \n",
       "464        Newport PATH             40.727224             -74.033759   \n",
       "156        Newport Pkwy             40.728745             -74.032108   \n",
       "416        Morris Canal             40.712419             -74.038526   \n",
       "155        Newport PATH             40.727224             -74.033759   \n",
       "476      Exchange Place             40.716247             -74.033459   \n",
       "452      Exchange Place             40.716247             -74.033459   \n",
       "307      Exchange Place             40.716247             -74.033459   \n",
       "\n",
       "     frequency  \n",
       "312        179  \n",
       "140         52  \n",
       "489         51  \n",
       "464         38  \n",
       "156         31  \n",
       "416         27  \n",
       "155         24  \n",
       "476         23  \n",
       "452         23  \n",
       "307         22  "
      ]
     },
     "execution_count": 40,
     "metadata": {},
     "output_type": "execute_result"
    }
   ],
   "source": [
    "datC=d_customer.groupby([\"start station name\",\"start station latitude\",\"start station longitude\", \"end station name\",\"end station latitude\", \"end station longitude\"]).size().reset_index(name=\"frequency\")\n",
    "datC=datC.sort_values(by=['frequency'],ascending=False)[0:10]\n",
    "datC"
   ]
  },
  {
   "cell_type": "markdown",
   "metadata": {},
   "source": [
    "## Subscriber's most frequent pickup and drop locations "
   ]
  },
  {
   "cell_type": "code",
   "execution_count": 42,
   "metadata": {},
   "outputs": [
    {
     "data": {
      "text/html": [
       "<div>\n",
       "<style scoped>\n",
       "    .dataframe tbody tr th:only-of-type {\n",
       "        vertical-align: middle;\n",
       "    }\n",
       "\n",
       "    .dataframe tbody tr th {\n",
       "        vertical-align: top;\n",
       "    }\n",
       "\n",
       "    .dataframe thead th {\n",
       "        text-align: right;\n",
       "    }\n",
       "</style>\n",
       "<table border=\"1\" class=\"dataframe\">\n",
       "  <thead>\n",
       "    <tr style=\"text-align: right;\">\n",
       "      <th></th>\n",
       "      <th>start station name</th>\n",
       "      <th>start station latitude</th>\n",
       "      <th>start station longitude</th>\n",
       "      <th>end station name</th>\n",
       "      <th>end station latitude</th>\n",
       "      <th>end station longitude</th>\n",
       "      <th>frequency</th>\n",
       "    </tr>\n",
       "  </thead>\n",
       "  <tbody>\n",
       "    <tr>\n",
       "      <td>601</td>\n",
       "      <td>Hamilton Park</td>\n",
       "      <td>40.727596</td>\n",
       "      <td>-74.044247</td>\n",
       "      <td>Grove St PATH</td>\n",
       "      <td>40.719586</td>\n",
       "      <td>-74.043117</td>\n",
       "      <td>1033</td>\n",
       "    </tr>\n",
       "    <tr>\n",
       "      <td>1089</td>\n",
       "      <td>Morris Canal</td>\n",
       "      <td>40.712419</td>\n",
       "      <td>-74.038526</td>\n",
       "      <td>Exchange Place</td>\n",
       "      <td>40.716247</td>\n",
       "      <td>-74.033459</td>\n",
       "      <td>730</td>\n",
       "    </tr>\n",
       "    <tr>\n",
       "      <td>561</td>\n",
       "      <td>Grove St PATH</td>\n",
       "      <td>40.719586</td>\n",
       "      <td>-74.043117</td>\n",
       "      <td>Hamilton Park</td>\n",
       "      <td>40.727596</td>\n",
       "      <td>-74.044247</td>\n",
       "      <td>672</td>\n",
       "    </tr>\n",
       "    <tr>\n",
       "      <td>176</td>\n",
       "      <td>Brunswick St</td>\n",
       "      <td>40.724176</td>\n",
       "      <td>-74.050656</td>\n",
       "      <td>Grove St PATH</td>\n",
       "      <td>40.719586</td>\n",
       "      <td>-74.043117</td>\n",
       "      <td>502</td>\n",
       "    </tr>\n",
       "    <tr>\n",
       "      <td>502</td>\n",
       "      <td>Exchange Place</td>\n",
       "      <td>40.716247</td>\n",
       "      <td>-74.033459</td>\n",
       "      <td>Morris Canal</td>\n",
       "      <td>40.712419</td>\n",
       "      <td>-74.038526</td>\n",
       "      <td>441</td>\n",
       "    </tr>\n",
       "    <tr>\n",
       "      <td>1043</td>\n",
       "      <td>McGinley Square</td>\n",
       "      <td>40.725340</td>\n",
       "      <td>-74.067622</td>\n",
       "      <td>Sip Ave</td>\n",
       "      <td>40.730743</td>\n",
       "      <td>-74.063784</td>\n",
       "      <td>426</td>\n",
       "    </tr>\n",
       "    <tr>\n",
       "      <td>1459</td>\n",
       "      <td>Van Vorst Park</td>\n",
       "      <td>40.718489</td>\n",
       "      <td>-74.047727</td>\n",
       "      <td>Grove St PATH</td>\n",
       "      <td>40.719586</td>\n",
       "      <td>-74.043117</td>\n",
       "      <td>423</td>\n",
       "    </tr>\n",
       "    <tr>\n",
       "      <td>783</td>\n",
       "      <td>Jersey &amp; 6th St</td>\n",
       "      <td>40.725289</td>\n",
       "      <td>-74.045572</td>\n",
       "      <td>Grove St PATH</td>\n",
       "      <td>40.719586</td>\n",
       "      <td>-74.043117</td>\n",
       "      <td>398</td>\n",
       "    </tr>\n",
       "    <tr>\n",
       "      <td>412</td>\n",
       "      <td>Dixon Mills</td>\n",
       "      <td>40.721630</td>\n",
       "      <td>-74.049968</td>\n",
       "      <td>Grove St PATH</td>\n",
       "      <td>40.719586</td>\n",
       "      <td>-74.043117</td>\n",
       "      <td>353</td>\n",
       "    </tr>\n",
       "    <tr>\n",
       "      <td>139</td>\n",
       "      <td>Brunswick &amp; 6th</td>\n",
       "      <td>40.726012</td>\n",
       "      <td>-74.050389</td>\n",
       "      <td>Grove St PATH</td>\n",
       "      <td>40.719586</td>\n",
       "      <td>-74.043117</td>\n",
       "      <td>330</td>\n",
       "    </tr>\n",
       "  </tbody>\n",
       "</table>\n",
       "</div>"
      ],
      "text/plain": [
       "     start station name  start station latitude  start station longitude  \\\n",
       "601       Hamilton Park               40.727596               -74.044247   \n",
       "1089       Morris Canal               40.712419               -74.038526   \n",
       "561       Grove St PATH               40.719586               -74.043117   \n",
       "176        Brunswick St               40.724176               -74.050656   \n",
       "502      Exchange Place               40.716247               -74.033459   \n",
       "1043    McGinley Square               40.725340               -74.067622   \n",
       "1459     Van Vorst Park               40.718489               -74.047727   \n",
       "783     Jersey & 6th St               40.725289               -74.045572   \n",
       "412         Dixon Mills               40.721630               -74.049968   \n",
       "139     Brunswick & 6th               40.726012               -74.050389   \n",
       "\n",
       "     end station name  end station latitude  end station longitude  frequency  \n",
       "601     Grove St PATH             40.719586             -74.043117       1033  \n",
       "1089   Exchange Place             40.716247             -74.033459        730  \n",
       "561     Hamilton Park             40.727596             -74.044247        672  \n",
       "176     Grove St PATH             40.719586             -74.043117        502  \n",
       "502      Morris Canal             40.712419             -74.038526        441  \n",
       "1043          Sip Ave             40.730743             -74.063784        426  \n",
       "1459    Grove St PATH             40.719586             -74.043117        423  \n",
       "783     Grove St PATH             40.719586             -74.043117        398  \n",
       "412     Grove St PATH             40.719586             -74.043117        353  \n",
       "139     Grove St PATH             40.719586             -74.043117        330  "
      ]
     },
     "execution_count": 42,
     "metadata": {},
     "output_type": "execute_result"
    }
   ],
   "source": [
    "datR=df1.groupby([\"start station name\",\"start station latitude\",\"start station longitude\", \"end station name\",\"end station latitude\", \"end station longitude\"]).size().reset_index(name=\"frequency\")\n",
    "datR=datR.sort_values(by=['frequency'],ascending=False)[0:10]\n",
    "datR"
   ]
  },
  {
   "cell_type": "code",
   "execution_count": 61,
   "metadata": {},
   "outputs": [],
   "source": [
    "subset = df[['start station latitude', 'start station longitude']]\n",
    "tuples_start = [tuple(x) for x in subset.values]\n",
    "\n",
    "\n",
    "subset = df[['end station latitude', 'end station longitude']]\n",
    "tuples_end = [tuple(x) for x in subset.values]\n",
    "\n",
    "df1 = df.groupby('bikeid')[['tripduration']].sum()\n",
    "df1.sort_values('tripduration',ascending = False )\n",
    "bike_route = df.loc[df['bikeid'] == df1['tripduration'].idxmax()]\n",
    "\n",
    "\n",
    "subset = bike_route[['start station latitude', 'start station longitude']]\n",
    "tuples_bike_start = [tuple(x) for x in subset.values]\n",
    "\n",
    "subset = bike_route[['end station latitude', 'end station longitude']]\n",
    "tuples_bike_end = [tuple(x) for x in subset.values]\n",
    "\n",
    "\n",
    "distinct_stations_start = df[['start station name','start station latitude','start station longitude']].drop_duplicates()\n",
    "\n",
    "subset = distinct_stations_start[['start station latitude', 'start station longitude']]\n",
    "station_markers_start = [tuple(x) for x in subset.values]\n",
    "\n",
    "distinct_stations_end = df[['end station name','end station latitude','end station longitude']].drop_duplicates()\n",
    "\n",
    "subset = distinct_stations_end[['end station latitude', 'end station longitude']]\n",
    "station_markers_end = [tuple(x) for x in subset.values]"
   ]
  },
  {
   "cell_type": "markdown",
   "metadata": {},
   "source": [
    "## Plotting the top 10 routes for the Subscribers "
   ]
  },
  {
   "cell_type": "code",
   "execution_count": 66,
   "metadata": {},
   "outputs": [
    {
     "data": {
      "application/vnd.jupyter.widget-view+json": {
       "model_id": "3059bf7fea814ac6b1b018eb78138db9",
       "version_major": 2,
       "version_minor": 0
      },
      "text/plain": [
       "Figure(layout=FigureLayout(height='420px'))"
      ]
     },
     "metadata": {},
     "output_type": "display_data"
    }
   ],
   "source": [
    "\n",
    "import gmaps\n",
    "import gmaps.datasets\n",
    "\n",
    "gmaps.configure(api_key=\".........................\")\n",
    "\n",
    "datR['start_lat_lon'] = list(zip(datR['start station latitude'], datR['start station longitude']))\n",
    "datR['end_lat_lon'] = list(zip(datR['end station latitude'], datR['end station longitude']))\n",
    "\n",
    "\n",
    "fig = gmaps.figure()\n",
    "for i in range(10):\n",
    "    geneva2zurich = gmaps.directions_layer(datR['start_lat_lon'].iloc[i], datR['end_lat_lon'].iloc[i])\n",
    "    fig.add_layer(geneva2zurich)\n",
    "\n",
    "fig"
   ]
  },
  {
   "cell_type": "markdown",
   "metadata": {},
   "source": [
    "## Plotting all the pickup stations"
   ]
  },
  {
   "cell_type": "code",
   "execution_count": 72,
   "metadata": {},
   "outputs": [
    {
     "data": {
      "application/vnd.jupyter.widget-view+json": {
       "model_id": "a210794ba35e4866a4d09ab4ed221376",
       "version_major": 2,
       "version_minor": 0
      },
      "text/plain": [
       "Figure(layout=FigureLayout(height='420px'))"
      ]
     },
     "metadata": {},
     "output_type": "display_data"
    }
   ],
   "source": [
    "fig2 = gmaps.figure()\n",
    "markers_start = gmaps.marker_layer(station_markers_start)\n",
    "fig2.add_layer(markers_start)\n",
    "\n",
    "fig2"
   ]
  },
  {
   "cell_type": "markdown",
   "metadata": {},
   "source": [
    "## Plotting all the drop down stations"
   ]
  },
  {
   "cell_type": "code",
   "execution_count": 73,
   "metadata": {},
   "outputs": [
    {
     "data": {
      "application/vnd.jupyter.widget-view+json": {
       "model_id": "64265b3019a645a6a254895504958481",
       "version_major": 2,
       "version_minor": 0
      },
      "text/plain": [
       "Figure(layout=FigureLayout(height='420px'))"
      ]
     },
     "metadata": {},
     "output_type": "display_data"
    }
   ],
   "source": [
    "import gmaps\n",
    "import gmaps.datasets\n",
    "\n",
    "\n",
    "\n",
    "fig1 = gmaps.figure()\n",
    "heatmap_layer = gmaps.heatmap_layer(tuples_start)\n",
    "\n",
    "fig1.add_layer(gmaps.heatmap_layer(tuples_end))\n",
    "\n",
    "markers_end = gmaps.marker_layer(station_markers_end)\n",
    "fig1.add_layer(markers_end)\n",
    "\n",
    "\n",
    "fig1"
   ]
  },
  {
   "cell_type": "markdown",
   "metadata": {},
   "source": [
    "## Creating a boundary for the set of pickup locations"
   ]
  },
  {
   "cell_type": "code",
   "execution_count": 70,
   "metadata": {},
   "outputs": [
    {
     "data": {
      "application/vnd.jupyter.widget-view+json": {
       "model_id": "4c97fbc1d4a74d31a27432ba428de283",
       "version_major": 2,
       "version_minor": 0
      },
      "text/plain": [
       "Figure(layout=FigureLayout(height='420px'))"
      ]
     },
     "metadata": {},
     "output_type": "display_data"
    }
   ],
   "source": [
    "fig = gmaps.figure(center=(40.740, -74.02), zoom_level=11)\n",
    "london_congestion_zone_polygon = gmaps.Polygon(\n",
    "    station_markers_start,\n",
    "    stroke_color='blue',\n",
    "    fill_color='blue'\n",
    ")\n",
    "drawing = gmaps.drawing_layer(\n",
    "    features=[london_congestion_zone_polygon],\n",
    "    show_controls=False\n",
    ")\n",
    "fig.add_layer(drawing)\n",
    "fig\n"
   ]
  },
  {
   "cell_type": "markdown",
   "metadata": {},
   "source": [
    "## Creating boundary for drop off stations"
   ]
  },
  {
   "cell_type": "code",
   "execution_count": 71,
   "metadata": {},
   "outputs": [
    {
     "data": {
      "application/vnd.jupyter.widget-view+json": {
       "model_id": "4c97fbc1d4a74d31a27432ba428de283",
       "version_major": 2,
       "version_minor": 0
      },
      "text/plain": [
       "Figure(layout=FigureLayout(height='420px'))"
      ]
     },
     "metadata": {},
     "output_type": "display_data"
    }
   ],
   "source": [
    "london_congestion_zone_polygon = gmaps.Polygon(\n",
    "    station_markers_end,\n",
    "    stroke_color='red',\n",
    "    fill_color='red'\n",
    ")\n",
    "drawing = gmaps.drawing_layer(\n",
    "    features=[london_congestion_zone_polygon],\n",
    "    show_controls=False\n",
    ")\n",
    "fig.add_layer(drawing)\n",
    "fig"
   ]
  },
  {
   "cell_type": "markdown",
   "metadata": {},
   "source": [
    "## Inference:"
   ]
  },
  {
   "cell_type": "markdown",
   "metadata": {},
   "source": [
    "Since there are many drop off locations outside of New Jersey (where all of the pickup stations are present), setting up more stations in the Manhattan area will help in increasing Citibike's revenue and customer base and indirect decrease in cost of transportation of bikes back to New Jersey "
   ]
  }
 ],
 "metadata": {
  "kernelspec": {
   "display_name": "Python 3",
   "language": "python",
   "name": "python3"
  },
  "language_info": {
   "codemirror_mode": {
    "name": "ipython",
    "version": 3
   },
   "file_extension": ".py",
   "mimetype": "text/x-python",
   "name": "python",
   "nbconvert_exporter": "python",
   "pygments_lexer": "ipython3",
   "version": "3.7.4"
  }
 },
 "nbformat": 4,
 "nbformat_minor": 2
}
